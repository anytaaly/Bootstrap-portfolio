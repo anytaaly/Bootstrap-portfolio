{
  "nbformat": 4,
  "nbformat_minor": 0,
  "metadata": {
    "colab": {
      "provenance": [],
      "collapsed_sections": [
        "iVXSyepJmfZs"
      ],
      "authorship_tag": "ABX9TyPXNAbx2/IY66Op4RJnwl13",
      "include_colab_link": true
    },
    "kernelspec": {
      "name": "python3",
      "display_name": "Python 3"
    },
    "language_info": {
      "name": "python"
    }
  },
  "cells": [
    {
      "cell_type": "markdown",
      "metadata": {
        "id": "view-in-github",
        "colab_type": "text"
      },
      "source": [
        "<a href=\"https://colab.research.google.com/github/anytaaly/Bootstrap-portfolio/blob/master/NLP_ADVANCE.ipynb\" target=\"_parent\"><img src=\"https://colab.research.google.com/assets/colab-badge.svg\" alt=\"Open In Colab\"/></a>"
      ]
    },
    {
      "cell_type": "markdown",
      "source": [
        "#Notebook Syntax and Explaination"
      ],
      "metadata": {
        "id": "CeadivKk0AZ6"
      }
    },
    {
      "cell_type": "markdown",
      "source": [
        "#%time"
      ],
      "metadata": {
        "id": "lTUBz5sS3Ap_"
      }
    },
    {
      "cell_type": "code",
      "source": [
        "%time"
      ],
      "metadata": {
        "colab": {
          "base_uri": "https://localhost:8080/"
        },
        "id": "2KUAh6HO0iAG",
        "outputId": "eb46097c-e646-472a-c6a3-127d1540f7d9"
      },
      "execution_count": 4,
      "outputs": [
        {
          "output_type": "stream",
          "name": "stdout",
          "text": [
            "CPU times: user 2 µs, sys: 0 ns, total: 2 µs\n",
            "Wall time: 9.3 µs\n"
          ]
        }
      ]
    },
    {
      "cell_type": "markdown",
      "source": [
        "In Jupyter notebooks, syntax that starts with `%` is called a magic command. Magic commands are special commands provided by IPython (which Jupyter is built on top of) to make interactive work easier.\n",
        "\n",
        "\n",
        "\n"
      ],
      "metadata": {
        "id": "CdFxfa6I0jsh"
      }
    },
    {
      "cell_type": "markdown",
      "source": [
        "| Magic Command | What it does  |\n",
        "|---|---|\n",
        "| %time | Times how long a single run of a line takes|\n",
        "| %timeit | Runs the line multiple times and reports averahe time |\n",
        "| %env | Sets environment variables |\n",
        "| %matplotlib inline | Displays matplotlib plots inline in the notebook |\n",
        "| %run script.py | Runs a Python script inside your notebook|"
      ],
      "metadata": {
        "id": "4LLNhsEy1bxK"
      }
    },
    {
      "cell_type": "code",
      "source": [
        "%env CUBLAS_WORKSPACE_CONFIG=:4096:8"
      ],
      "metadata": {
        "colab": {
          "base_uri": "https://localhost:8080/"
        },
        "id": "fuLwzM0E0ADf",
        "outputId": "28f327d1-f797-40f3-f1cb-cca196aebe4c"
      },
      "execution_count": 5,
      "outputs": [
        {
          "output_type": "stream",
          "name": "stdout",
          "text": [
            "env: CUBLAS_WORKSPACE_CONFIG=:4096:8\n"
          ]
        }
      ]
    },
    {
      "cell_type": "markdown",
      "source": [
        "\n",
        "### Explainnation of the command:\n",
        "`CUBLAS_WORKSPACE_CONFIG=:4096:8` is typically used in Jupyter notebooks to set an environment variable CUBLAS_WORKSPACE_CONFIG before running GPU-intensive code (usually PyTorch or TensorFlow). This variable configures how cuBLAS (NVIDIA’s CUDA Basic Linear Algebra Subprograms library) uses workspace memory on the GPU."
      ],
      "metadata": {
        "id": "8YGwDRuj0WTy"
      }
    },
    {
      "cell_type": "markdown",
      "source": [
        "#%capture"
      ],
      "metadata": {
        "id": "rP-UrzBZ282_"
      }
    },
    {
      "cell_type": "code",
      "source": [
        "%%capture captured_output\n",
        "print(\"Hello from the hidden world!\")\n"
      ],
      "metadata": {
        "id": "JNWTo-to2bGR"
      },
      "execution_count": 8,
      "outputs": []
    },
    {
      "cell_type": "code",
      "source": [
        "# Later...\n",
        "print(captured_output.stdout)"
      ],
      "metadata": {
        "colab": {
          "base_uri": "https://localhost:8080/"
        },
        "id": "zWl4v-e620SF",
        "outputId": "f1be51da-ccfc-44dc-80f7-c6a90f5a0ef6"
      },
      "execution_count": 9,
      "outputs": [
        {
          "output_type": "stream",
          "name": "stdout",
          "text": [
            "Hello from the hidden world!\n",
            "\n"
          ]
        }
      ]
    },
    {
      "cell_type": "markdown",
      "source": [
        "`%%capture `is a cell magic that lets you suppress output from a code cell — perfect for hiding messy logs, unwanted print statements, or warnings when you just want to run something quietly.\n",
        "\n"
      ],
      "metadata": {
        "id": "hjLH8CrT21nu"
      }
    },
    {
      "cell_type": "markdown",
      "source": [
        "#%%writefile"
      ],
      "metadata": {
        "id": "r1m2DhGD3o8z"
      }
    },
    {
      "cell_type": "code",
      "source": [
        "%%writefile notebook-config.yaml\n",
        "CUBLAS_WORKSPACE_CONFIG: \":4096:8\"\n",
        "use_deterministic_algorithms: true"
      ],
      "metadata": {
        "id": "QBRm9Hfc3rjF"
      },
      "execution_count": null,
      "outputs": []
    },
    {
      "cell_type": "markdown",
      "source": [
        "This will create (or overwrite) a file named ` notebook-config.yaml` with that content."
      ],
      "metadata": {
        "id": "Gg_r0WpT3wb9"
      }
    },
    {
      "cell_type": "markdown",
      "source": [
        "Where is the file saved?\n",
        "Right in your current working directory (the same place as where you run `!ls` or `!pwd` from a cell)."
      ],
      "metadata": {
        "id": "-TlFWNaB30hX"
      }
    },
    {
      "cell_type": "markdown",
      "source": [
        "To append instead of overwrite, use:\n",
        "\n",
        "\n",
        "```\n",
        "# %%writefile -a filename\n",
        "```\n",
        "\n"
      ],
      "metadata": {
        "id": "j2pkbeDe373F"
      }
    },
    {
      "cell_type": "markdown",
      "source": [
        "#Shell Terminal Commands in Jupyter"
      ],
      "metadata": {
        "id": "IQsCBZV83EFf"
      }
    },
    {
      "cell_type": "markdown",
      "source": [
        "#!your-shell-command"
      ],
      "metadata": {
        "id": "EjTFLcmm3L2p"
      }
    },
    {
      "cell_type": "code",
      "source": [
        "!ls"
      ],
      "metadata": {
        "colab": {
          "base_uri": "https://localhost:8080/"
        },
        "id": "LsIWmZxw3Sk1",
        "outputId": "7bf96898-a8ee-419c-96a0-6f355e53314f"
      },
      "execution_count": 10,
      "outputs": [
        {
          "output_type": "stream",
          "name": "stdout",
          "text": [
            "sample_data\n"
          ]
        }
      ]
    },
    {
      "cell_type": "code",
      "source": [
        "!echo"
      ],
      "metadata": {
        "colab": {
          "base_uri": "https://localhost:8080/"
        },
        "id": "fcKkLf0B3WqY",
        "outputId": "c370f667-7d0b-4693-99dc-3a2a700435a6"
      },
      "execution_count": 11,
      "outputs": [
        {
          "output_type": "stream",
          "name": "stdout",
          "text": [
            "\n"
          ]
        }
      ]
    },
    {
      "cell_type": "code",
      "source": [
        "filename = \"text.txt\"\n",
        "!echo \"this is a test\" > {filename}\n",
        "!cat {filename}"
      ],
      "metadata": {
        "colab": {
          "base_uri": "https://localhost:8080/"
        },
        "id": "NOY6zcoq3YsU",
        "outputId": "aa4ab233-4d79-4c42-e0e7-c46e3096d2af"
      },
      "execution_count": 12,
      "outputs": [
        {
          "output_type": "stream",
          "name": "stdout",
          "text": [
            "this is a test\n"
          ]
        }
      ]
    },
    {
      "cell_type": "markdown",
      "source": [],
      "metadata": {
        "id": "VaoF0c-o3WhP"
      }
    },
    {
      "cell_type": "markdown",
      "source": [
        "#Chapter 1: Introduction\n",
        "### *Course Source: NLP Demystified*"
      ],
      "metadata": {
        "id": "n4WrZkbondDR"
      }
    },
    {
      "cell_type": "code",
      "source": [],
      "metadata": {
        "id": "Yc7140ZnnfHy"
      },
      "execution_count": null,
      "outputs": []
    },
    {
      "cell_type": "markdown",
      "source": [
        "#Chapter 2: Tokenization\n",
        "### *Course Source: NLP Demystified*"
      ],
      "metadata": {
        "id": "HJLvxjvLnhCM"
      }
    },
    {
      "cell_type": "markdown",
      "source": [
        "#Chapter 3: Basic Preprocessing\n",
        "### *Course Source: NLP Demystified*"
      ],
      "metadata": {
        "id": "WVXoFBmInnG_"
      }
    },
    {
      "cell_type": "markdown",
      "source": [],
      "metadata": {
        "id": "W8xI5427nrRI"
      }
    },
    {
      "cell_type": "markdown",
      "source": [
        "#Chapter 4: Advanced Preprocessing\n",
        "### *Course Source: NLP Demystified*\n"
      ],
      "metadata": {
        "id": "_fVeDB2pnudz"
      }
    },
    {
      "cell_type": "markdown",
      "source": [
        "#Chapter 5: Basic Bag-of-words\n",
        "### *Course Source: NLP Demystified*"
      ],
      "metadata": {
        "id": "th_N7tH3n4MP"
      }
    },
    {
      "cell_type": "markdown",
      "source": [
        "#Chapter 6: TF-IDF\n",
        "### *Course Source: NLP Demystified*"
      ],
      "metadata": {
        "id": "jFmgcOFYn-ji"
      }
    },
    {
      "cell_type": "markdown",
      "source": [
        "#Chapter 7: Building Models\n",
        "### *Course Source: NLP Demystified*"
      ],
      "metadata": {
        "id": "dj-NhhHkoDDB"
      }
    },
    {
      "cell_type": "markdown",
      "source": [
        "#Chapter 8: Naive Bayes\n",
        "### *Course Source: NLP Demystified*"
      ],
      "metadata": {
        "id": "mPnuITiioIsO"
      }
    },
    {
      "cell_type": "markdown",
      "source": [
        "#Chapter 9: Topic Modelling\n",
        "### *Course Source: NLP Demystified*\n"
      ],
      "metadata": {
        "id": "WFRoKgytoMJ0"
      }
    },
    {
      "cell_type": "markdown",
      "source": [
        "#Chapter10: Text Classification & Sentiment Analysis\n",
        "\n",
        "### *Course Source: UPENN CIS 5300*\n"
      ],
      "metadata": {
        "id": "4N2DF7emmWVd"
      }
    },
    {
      "cell_type": "markdown",
      "source": [
        "#Chapter 11: Text Processing & Logistic Regression\n",
        "### *Course Source: UPENN CIS 5300*"
      ],
      "metadata": {
        "id": "iVXSyepJmfZs"
      }
    },
    {
      "cell_type": "markdown",
      "source": [],
      "metadata": {
        "id": "ORFh22yFn9is"
      }
    },
    {
      "cell_type": "markdown",
      "source": [
        "#Chapter 12: Review of Probabilities & N-gram Langauge Models\n",
        "`### *Course Source: UPENN CIS 5300*`\n"
      ],
      "metadata": {
        "id": "ZA5lubIJmr6N"
      }
    },
    {
      "cell_type": "markdown",
      "source": [
        "#Chapter 13: Vector Space Semantics\n",
        "`Course Source: UPENN CIS 5300`\n"
      ],
      "metadata": {
        "id": "5dWPPmrKm0Em"
      }
    },
    {
      "cell_type": "markdown",
      "source": [
        "#Chapter 14: Vector Space Models\n",
        "### *Course Source: UPENN CIS 5300*"
      ],
      "metadata": {
        "id": "X-X8EvUNm_qy"
      }
    },
    {
      "cell_type": "markdown",
      "source": [
        "#Chapter 15: Neural Language Models\n",
        "### *Course Source: UPENN CIS 5300*"
      ],
      "metadata": {
        "id": "W6fg4hQKnEnq"
      }
    },
    {
      "cell_type": "markdown",
      "source": [
        "#Chapter # 16: Neural Networks I. (NLP Demhystified)\n",
        "### *Course Source: NLP Demystified*\n"
      ],
      "metadata": {
        "id": "l52wZjWxnH-w"
      }
    },
    {
      "cell_type": "markdown",
      "source": [
        "#Chapter 17: Neural Network II\n",
        "### *Course Source: NLP Demystified*"
      ],
      "metadata": {
        "id": "3OoiPlNdnU7q"
      }
    },
    {
      "cell_type": "markdown",
      "source": [],
      "metadata": {
        "id": "Bw8hVe7op1DD"
      }
    },
    {
      "cell_type": "markdown",
      "source": [],
      "metadata": {
        "id": "QOiaKd3VnSoh"
      }
    },
    {
      "cell_type": "markdown",
      "source": [
        "# Chapter 18: Word Vectors\n",
        "### *Course Source: NLP Demystified*"
      ],
      "metadata": {
        "id": "ZBCeIMoApLDX"
      }
    },
    {
      "cell_type": "markdown",
      "source": [
        "# Chapter 19: Recurrent Neural Networks\n",
        "### *Course Source: NLP Demystified*"
      ],
      "metadata": {
        "id": "V8tA3lYZp1tP"
      }
    },
    {
      "cell_type": "markdown",
      "source": [],
      "metadata": {
        "id": "8Otk0b0Ip7Yh"
      }
    },
    {
      "cell_type": "markdown",
      "source": [
        "#Chapter 20: Seq2Seq and Attention\n",
        "### *Course Source: NLP Demystified*"
      ],
      "metadata": {
        "id": "2w7Y3t-up-Gx"
      }
    },
    {
      "cell_type": "markdown",
      "source": [
        "#Chapter 21: Transformer\n",
        "`Course Source: NLP Demystified`"
      ],
      "metadata": {
        "id": "CCnci7w5qFz-"
      }
    },
    {
      "cell_type": "markdown",
      "source": [],
      "metadata": {
        "id": "SmBwsI-9qLIn"
      }
    },
    {
      "cell_type": "markdown",
      "source": [
        "#Chapter 22: Parts of Speech & Grammars\n",
        "\n",
        "\n",
        "```\n",
        "UPENN CSI 5300\n",
        "```\n",
        "\n"
      ],
      "metadata": {
        "id": "TsMKDzBqqPtE"
      }
    },
    {
      "cell_type": "markdown",
      "source": [
        "#Chapter 23: Transformers and Neural Text Generation\n",
        "\n",
        "```\n",
        "UPENN CSI 5300\n",
        "```\n"
      ],
      "metadata": {
        "id": "fC1xsNOLqbhF"
      }
    },
    {
      "cell_type": "markdown",
      "source": [],
      "metadata": {
        "id": "kLG6vt0Qqg6R"
      }
    },
    {
      "cell_type": "markdown",
      "source": [
        "#Chapter 24: Encoder-Decoders, BERT and Fine-tuning\n",
        "\n",
        "```\n",
        "UPENN CSI 5300\n",
        "```"
      ],
      "metadata": {
        "id": "R7bxEQCGqiU7"
      }
    },
    {
      "cell_type": "markdown",
      "source": [
        "#Chapter 25: Prompt Engineering, Instruction Following, and Using GPT\n",
        "\n",
        "```\n",
        "UPENN CSI 5300\n",
        "```"
      ],
      "metadata": {
        "id": "hCQ5lvUZqmxj"
      }
    },
    {
      "cell_type": "markdown",
      "source": [
        "#Chapter 26: Machine Translation\n",
        "```\n",
        "UPENN CSI 5300\n",
        "```"
      ],
      "metadata": {
        "id": "dcVn20DzqsK2"
      }
    },
    {
      "cell_type": "markdown",
      "source": [
        "#Chapter 27: Dialogue Systems, Chatbots & Question Answering\n",
        "\n",
        "```\n",
        "UPENN CSI 5300\n",
        "```"
      ],
      "metadata": {
        "id": "blvgKOWbq0oM"
      }
    },
    {
      "cell_type": "markdown",
      "source": [
        "#Chapter 28: Parsing and Dependency Parsing\n",
        "\n",
        "```\n",
        "UPENN CSI 5300\n",
        "```"
      ],
      "metadata": {
        "id": "Tta28sZ6q6Zd"
      }
    },
    {
      "cell_type": "markdown",
      "source": [
        "#Chapter 29: Logical Representations of Sentence MEaning, Semantic Role Labelling & Information Extraction\n",
        "\n",
        "\n",
        "```\n",
        "UPENN CSI 5300\n",
        "```"
      ],
      "metadata": {
        "id": "ag7TM3frq-Ih"
      }
    }
  ]
}