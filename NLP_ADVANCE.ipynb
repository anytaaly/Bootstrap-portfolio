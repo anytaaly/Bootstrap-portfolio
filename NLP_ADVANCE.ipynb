{
  "nbformat": 4,
  "nbformat_minor": 0,
  "metadata": {
    "colab": {
      "provenance": [],
      "collapsed_sections": [
        "iVXSyepJmfZs"
      ],
      "authorship_tag": "ABX9TyPjrIg5dNsHYHcObyVmrVeQ",
      "include_colab_link": true
    },
    "kernelspec": {
      "name": "python3",
      "display_name": "Python 3"
    },
    "language_info": {
      "name": "python"
    },
    "widgets": {
      "application/vnd.jupyter.widget-state+json": {
        "3e1c6022465d46a1bade4d6e85fb0678": {
          "model_module": "@jupyter-widgets/controls",
          "model_name": "HBoxModel",
          "model_module_version": "1.5.0",
          "state": {
            "_dom_classes": [],
            "_model_module": "@jupyter-widgets/controls",
            "_model_module_version": "1.5.0",
            "_model_name": "HBoxModel",
            "_view_count": null,
            "_view_module": "@jupyter-widgets/controls",
            "_view_module_version": "1.5.0",
            "_view_name": "HBoxView",
            "box_style": "",
            "children": [
              "IPY_MODEL_ae3101d95646417796723d4fa11d7c28",
              "IPY_MODEL_d3af5e8bd6eb48a38214439cb5646594",
              "IPY_MODEL_22167c1f587e4308ac81cee8e32e2bdf"
            ],
            "layout": "IPY_MODEL_1dc1a32deeb64c0c805b0891eb9cc175"
          }
        },
        "ae3101d95646417796723d4fa11d7c28": {
          "model_module": "@jupyter-widgets/controls",
          "model_name": "HTMLModel",
          "model_module_version": "1.5.0",
          "state": {
            "_dom_classes": [],
            "_model_module": "@jupyter-widgets/controls",
            "_model_module_version": "1.5.0",
            "_model_name": "HTMLModel",
            "_view_count": null,
            "_view_module": "@jupyter-widgets/controls",
            "_view_module_version": "1.5.0",
            "_view_name": "HTMLView",
            "description": "",
            "description_tooltip": null,
            "layout": "IPY_MODEL_9b9c346c08e4489088eafa803221698c",
            "placeholder": "​",
            "style": "IPY_MODEL_c02ca40873c7494684ee01455b8f43b5",
            "value": "config.json: 100%"
          }
        },
        "d3af5e8bd6eb48a38214439cb5646594": {
          "model_module": "@jupyter-widgets/controls",
          "model_name": "FloatProgressModel",
          "model_module_version": "1.5.0",
          "state": {
            "_dom_classes": [],
            "_model_module": "@jupyter-widgets/controls",
            "_model_module_version": "1.5.0",
            "_model_name": "FloatProgressModel",
            "_view_count": null,
            "_view_module": "@jupyter-widgets/controls",
            "_view_module_version": "1.5.0",
            "_view_name": "ProgressView",
            "bar_style": "success",
            "description": "",
            "description_tooltip": null,
            "layout": "IPY_MODEL_dd91184f62624db29820dd154d53421b",
            "max": 629,
            "min": 0,
            "orientation": "horizontal",
            "style": "IPY_MODEL_66f45155bda94130afbe37ea6dc101d3",
            "value": 629
          }
        },
        "22167c1f587e4308ac81cee8e32e2bdf": {
          "model_module": "@jupyter-widgets/controls",
          "model_name": "HTMLModel",
          "model_module_version": "1.5.0",
          "state": {
            "_dom_classes": [],
            "_model_module": "@jupyter-widgets/controls",
            "_model_module_version": "1.5.0",
            "_model_name": "HTMLModel",
            "_view_count": null,
            "_view_module": "@jupyter-widgets/controls",
            "_view_module_version": "1.5.0",
            "_view_name": "HTMLView",
            "description": "",
            "description_tooltip": null,
            "layout": "IPY_MODEL_a143713ef0ca4d698b1d0138e1c2b66c",
            "placeholder": "​",
            "style": "IPY_MODEL_3487cc22e0a745ae89a21a10122c3dfa",
            "value": " 629/629 [00:00&lt;00:00, 1.44kB/s]"
          }
        },
        "1dc1a32deeb64c0c805b0891eb9cc175": {
          "model_module": "@jupyter-widgets/base",
          "model_name": "LayoutModel",
          "model_module_version": "1.2.0",
          "state": {
            "_model_module": "@jupyter-widgets/base",
            "_model_module_version": "1.2.0",
            "_model_name": "LayoutModel",
            "_view_count": null,
            "_view_module": "@jupyter-widgets/base",
            "_view_module_version": "1.2.0",
            "_view_name": "LayoutView",
            "align_content": null,
            "align_items": null,
            "align_self": null,
            "border": null,
            "bottom": null,
            "display": null,
            "flex": null,
            "flex_flow": null,
            "grid_area": null,
            "grid_auto_columns": null,
            "grid_auto_flow": null,
            "grid_auto_rows": null,
            "grid_column": null,
            "grid_gap": null,
            "grid_row": null,
            "grid_template_areas": null,
            "grid_template_columns": null,
            "grid_template_rows": null,
            "height": null,
            "justify_content": null,
            "justify_items": null,
            "left": null,
            "margin": null,
            "max_height": null,
            "max_width": null,
            "min_height": null,
            "min_width": null,
            "object_fit": null,
            "object_position": null,
            "order": null,
            "overflow": null,
            "overflow_x": null,
            "overflow_y": null,
            "padding": null,
            "right": null,
            "top": null,
            "visibility": null,
            "width": null
          }
        },
        "9b9c346c08e4489088eafa803221698c": {
          "model_module": "@jupyter-widgets/base",
          "model_name": "LayoutModel",
          "model_module_version": "1.2.0",
          "state": {
            "_model_module": "@jupyter-widgets/base",
            "_model_module_version": "1.2.0",
            "_model_name": "LayoutModel",
            "_view_count": null,
            "_view_module": "@jupyter-widgets/base",
            "_view_module_version": "1.2.0",
            "_view_name": "LayoutView",
            "align_content": null,
            "align_items": null,
            "align_self": null,
            "border": null,
            "bottom": null,
            "display": null,
            "flex": null,
            "flex_flow": null,
            "grid_area": null,
            "grid_auto_columns": null,
            "grid_auto_flow": null,
            "grid_auto_rows": null,
            "grid_column": null,
            "grid_gap": null,
            "grid_row": null,
            "grid_template_areas": null,
            "grid_template_columns": null,
            "grid_template_rows": null,
            "height": null,
            "justify_content": null,
            "justify_items": null,
            "left": null,
            "margin": null,
            "max_height": null,
            "max_width": null,
            "min_height": null,
            "min_width": null,
            "object_fit": null,
            "object_position": null,
            "order": null,
            "overflow": null,
            "overflow_x": null,
            "overflow_y": null,
            "padding": null,
            "right": null,
            "top": null,
            "visibility": null,
            "width": null
          }
        },
        "c02ca40873c7494684ee01455b8f43b5": {
          "model_module": "@jupyter-widgets/controls",
          "model_name": "DescriptionStyleModel",
          "model_module_version": "1.5.0",
          "state": {
            "_model_module": "@jupyter-widgets/controls",
            "_model_module_version": "1.5.0",
            "_model_name": "DescriptionStyleModel",
            "_view_count": null,
            "_view_module": "@jupyter-widgets/base",
            "_view_module_version": "1.2.0",
            "_view_name": "StyleView",
            "description_width": ""
          }
        },
        "dd91184f62624db29820dd154d53421b": {
          "model_module": "@jupyter-widgets/base",
          "model_name": "LayoutModel",
          "model_module_version": "1.2.0",
          "state": {
            "_model_module": "@jupyter-widgets/base",
            "_model_module_version": "1.2.0",
            "_model_name": "LayoutModel",
            "_view_count": null,
            "_view_module": "@jupyter-widgets/base",
            "_view_module_version": "1.2.0",
            "_view_name": "LayoutView",
            "align_content": null,
            "align_items": null,
            "align_self": null,
            "border": null,
            "bottom": null,
            "display": null,
            "flex": null,
            "flex_flow": null,
            "grid_area": null,
            "grid_auto_columns": null,
            "grid_auto_flow": null,
            "grid_auto_rows": null,
            "grid_column": null,
            "grid_gap": null,
            "grid_row": null,
            "grid_template_areas": null,
            "grid_template_columns": null,
            "grid_template_rows": null,
            "height": null,
            "justify_content": null,
            "justify_items": null,
            "left": null,
            "margin": null,
            "max_height": null,
            "max_width": null,
            "min_height": null,
            "min_width": null,
            "object_fit": null,
            "object_position": null,
            "order": null,
            "overflow": null,
            "overflow_x": null,
            "overflow_y": null,
            "padding": null,
            "right": null,
            "top": null,
            "visibility": null,
            "width": null
          }
        },
        "66f45155bda94130afbe37ea6dc101d3": {
          "model_module": "@jupyter-widgets/controls",
          "model_name": "ProgressStyleModel",
          "model_module_version": "1.5.0",
          "state": {
            "_model_module": "@jupyter-widgets/controls",
            "_model_module_version": "1.5.0",
            "_model_name": "ProgressStyleModel",
            "_view_count": null,
            "_view_module": "@jupyter-widgets/base",
            "_view_module_version": "1.2.0",
            "_view_name": "StyleView",
            "bar_color": null,
            "description_width": ""
          }
        },
        "a143713ef0ca4d698b1d0138e1c2b66c": {
          "model_module": "@jupyter-widgets/base",
          "model_name": "LayoutModel",
          "model_module_version": "1.2.0",
          "state": {
            "_model_module": "@jupyter-widgets/base",
            "_model_module_version": "1.2.0",
            "_model_name": "LayoutModel",
            "_view_count": null,
            "_view_module": "@jupyter-widgets/base",
            "_view_module_version": "1.2.0",
            "_view_name": "LayoutView",
            "align_content": null,
            "align_items": null,
            "align_self": null,
            "border": null,
            "bottom": null,
            "display": null,
            "flex": null,
            "flex_flow": null,
            "grid_area": null,
            "grid_auto_columns": null,
            "grid_auto_flow": null,
            "grid_auto_rows": null,
            "grid_column": null,
            "grid_gap": null,
            "grid_row": null,
            "grid_template_areas": null,
            "grid_template_columns": null,
            "grid_template_rows": null,
            "height": null,
            "justify_content": null,
            "justify_items": null,
            "left": null,
            "margin": null,
            "max_height": null,
            "max_width": null,
            "min_height": null,
            "min_width": null,
            "object_fit": null,
            "object_position": null,
            "order": null,
            "overflow": null,
            "overflow_x": null,
            "overflow_y": null,
            "padding": null,
            "right": null,
            "top": null,
            "visibility": null,
            "width": null
          }
        },
        "3487cc22e0a745ae89a21a10122c3dfa": {
          "model_module": "@jupyter-widgets/controls",
          "model_name": "DescriptionStyleModel",
          "model_module_version": "1.5.0",
          "state": {
            "_model_module": "@jupyter-widgets/controls",
            "_model_module_version": "1.5.0",
            "_model_name": "DescriptionStyleModel",
            "_view_count": null,
            "_view_module": "@jupyter-widgets/base",
            "_view_module_version": "1.2.0",
            "_view_name": "StyleView",
            "description_width": ""
          }
        },
        "55b335b6442a4551b838f09cc640c708": {
          "model_module": "@jupyter-widgets/controls",
          "model_name": "HBoxModel",
          "model_module_version": "1.5.0",
          "state": {
            "_dom_classes": [],
            "_model_module": "@jupyter-widgets/controls",
            "_model_module_version": "1.5.0",
            "_model_name": "HBoxModel",
            "_view_count": null,
            "_view_module": "@jupyter-widgets/controls",
            "_view_module_version": "1.5.0",
            "_view_name": "HBoxView",
            "box_style": "",
            "children": [
              "IPY_MODEL_92df0c0e110440c89f32dc1d9160c3fd",
              "IPY_MODEL_07eb44cf6c6b43b2bb666e96604b0eb8",
              "IPY_MODEL_143b82bc28c34ad384367154cdc45bca"
            ],
            "layout": "IPY_MODEL_90283df19aa449778b7bb6bfb8fdf9e6"
          }
        },
        "92df0c0e110440c89f32dc1d9160c3fd": {
          "model_module": "@jupyter-widgets/controls",
          "model_name": "HTMLModel",
          "model_module_version": "1.5.0",
          "state": {
            "_dom_classes": [],
            "_model_module": "@jupyter-widgets/controls",
            "_model_module_version": "1.5.0",
            "_model_name": "HTMLModel",
            "_view_count": null,
            "_view_module": "@jupyter-widgets/controls",
            "_view_module_version": "1.5.0",
            "_view_name": "HTMLView",
            "description": "",
            "description_tooltip": null,
            "layout": "IPY_MODEL_25d78646dcbc40abb6a2de021c755349",
            "placeholder": "​",
            "style": "IPY_MODEL_d546ad72a19c490eb1562e2f622b2fda",
            "value": "model.safetensors: 100%"
          }
        },
        "07eb44cf6c6b43b2bb666e96604b0eb8": {
          "model_module": "@jupyter-widgets/controls",
          "model_name": "FloatProgressModel",
          "model_module_version": "1.5.0",
          "state": {
            "_dom_classes": [],
            "_model_module": "@jupyter-widgets/controls",
            "_model_module_version": "1.5.0",
            "_model_name": "FloatProgressModel",
            "_view_count": null,
            "_view_module": "@jupyter-widgets/controls",
            "_view_module_version": "1.5.0",
            "_view_name": "ProgressView",
            "bar_style": "success",
            "description": "",
            "description_tooltip": null,
            "layout": "IPY_MODEL_f8a6e7d61f4c4b058956d88b2e7722fd",
            "max": 267832558,
            "min": 0,
            "orientation": "horizontal",
            "style": "IPY_MODEL_041ec0f74cba412fa9b62bc4fbbade14",
            "value": 267832558
          }
        },
        "143b82bc28c34ad384367154cdc45bca": {
          "model_module": "@jupyter-widgets/controls",
          "model_name": "HTMLModel",
          "model_module_version": "1.5.0",
          "state": {
            "_dom_classes": [],
            "_model_module": "@jupyter-widgets/controls",
            "_model_module_version": "1.5.0",
            "_model_name": "HTMLModel",
            "_view_count": null,
            "_view_module": "@jupyter-widgets/controls",
            "_view_module_version": "1.5.0",
            "_view_name": "HTMLView",
            "description": "",
            "description_tooltip": null,
            "layout": "IPY_MODEL_db8766fe36d94328846876feca73a45f",
            "placeholder": "​",
            "style": "IPY_MODEL_835242180cc1416cbf8dcceb081950af",
            "value": " 268M/268M [00:01&lt;00:00, 219MB/s]"
          }
        },
        "90283df19aa449778b7bb6bfb8fdf9e6": {
          "model_module": "@jupyter-widgets/base",
          "model_name": "LayoutModel",
          "model_module_version": "1.2.0",
          "state": {
            "_model_module": "@jupyter-widgets/base",
            "_model_module_version": "1.2.0",
            "_model_name": "LayoutModel",
            "_view_count": null,
            "_view_module": "@jupyter-widgets/base",
            "_view_module_version": "1.2.0",
            "_view_name": "LayoutView",
            "align_content": null,
            "align_items": null,
            "align_self": null,
            "border": null,
            "bottom": null,
            "display": null,
            "flex": null,
            "flex_flow": null,
            "grid_area": null,
            "grid_auto_columns": null,
            "grid_auto_flow": null,
            "grid_auto_rows": null,
            "grid_column": null,
            "grid_gap": null,
            "grid_row": null,
            "grid_template_areas": null,
            "grid_template_columns": null,
            "grid_template_rows": null,
            "height": null,
            "justify_content": null,
            "justify_items": null,
            "left": null,
            "margin": null,
            "max_height": null,
            "max_width": null,
            "min_height": null,
            "min_width": null,
            "object_fit": null,
            "object_position": null,
            "order": null,
            "overflow": null,
            "overflow_x": null,
            "overflow_y": null,
            "padding": null,
            "right": null,
            "top": null,
            "visibility": null,
            "width": null
          }
        },
        "25d78646dcbc40abb6a2de021c755349": {
          "model_module": "@jupyter-widgets/base",
          "model_name": "LayoutModel",
          "model_module_version": "1.2.0",
          "state": {
            "_model_module": "@jupyter-widgets/base",
            "_model_module_version": "1.2.0",
            "_model_name": "LayoutModel",
            "_view_count": null,
            "_view_module": "@jupyter-widgets/base",
            "_view_module_version": "1.2.0",
            "_view_name": "LayoutView",
            "align_content": null,
            "align_items": null,
            "align_self": null,
            "border": null,
            "bottom": null,
            "display": null,
            "flex": null,
            "flex_flow": null,
            "grid_area": null,
            "grid_auto_columns": null,
            "grid_auto_flow": null,
            "grid_auto_rows": null,
            "grid_column": null,
            "grid_gap": null,
            "grid_row": null,
            "grid_template_areas": null,
            "grid_template_columns": null,
            "grid_template_rows": null,
            "height": null,
            "justify_content": null,
            "justify_items": null,
            "left": null,
            "margin": null,
            "max_height": null,
            "max_width": null,
            "min_height": null,
            "min_width": null,
            "object_fit": null,
            "object_position": null,
            "order": null,
            "overflow": null,
            "overflow_x": null,
            "overflow_y": null,
            "padding": null,
            "right": null,
            "top": null,
            "visibility": null,
            "width": null
          }
        },
        "d546ad72a19c490eb1562e2f622b2fda": {
          "model_module": "@jupyter-widgets/controls",
          "model_name": "DescriptionStyleModel",
          "model_module_version": "1.5.0",
          "state": {
            "_model_module": "@jupyter-widgets/controls",
            "_model_module_version": "1.5.0",
            "_model_name": "DescriptionStyleModel",
            "_view_count": null,
            "_view_module": "@jupyter-widgets/base",
            "_view_module_version": "1.2.0",
            "_view_name": "StyleView",
            "description_width": ""
          }
        },
        "f8a6e7d61f4c4b058956d88b2e7722fd": {
          "model_module": "@jupyter-widgets/base",
          "model_name": "LayoutModel",
          "model_module_version": "1.2.0",
          "state": {
            "_model_module": "@jupyter-widgets/base",
            "_model_module_version": "1.2.0",
            "_model_name": "LayoutModel",
            "_view_count": null,
            "_view_module": "@jupyter-widgets/base",
            "_view_module_version": "1.2.0",
            "_view_name": "LayoutView",
            "align_content": null,
            "align_items": null,
            "align_self": null,
            "border": null,
            "bottom": null,
            "display": null,
            "flex": null,
            "flex_flow": null,
            "grid_area": null,
            "grid_auto_columns": null,
            "grid_auto_flow": null,
            "grid_auto_rows": null,
            "grid_column": null,
            "grid_gap": null,
            "grid_row": null,
            "grid_template_areas": null,
            "grid_template_columns": null,
            "grid_template_rows": null,
            "height": null,
            "justify_content": null,
            "justify_items": null,
            "left": null,
            "margin": null,
            "max_height": null,
            "max_width": null,
            "min_height": null,
            "min_width": null,
            "object_fit": null,
            "object_position": null,
            "order": null,
            "overflow": null,
            "overflow_x": null,
            "overflow_y": null,
            "padding": null,
            "right": null,
            "top": null,
            "visibility": null,
            "width": null
          }
        },
        "041ec0f74cba412fa9b62bc4fbbade14": {
          "model_module": "@jupyter-widgets/controls",
          "model_name": "ProgressStyleModel",
          "model_module_version": "1.5.0",
          "state": {
            "_model_module": "@jupyter-widgets/controls",
            "_model_module_version": "1.5.0",
            "_model_name": "ProgressStyleModel",
            "_view_count": null,
            "_view_module": "@jupyter-widgets/base",
            "_view_module_version": "1.2.0",
            "_view_name": "StyleView",
            "bar_color": null,
            "description_width": ""
          }
        },
        "db8766fe36d94328846876feca73a45f": {
          "model_module": "@jupyter-widgets/base",
          "model_name": "LayoutModel",
          "model_module_version": "1.2.0",
          "state": {
            "_model_module": "@jupyter-widgets/base",
            "_model_module_version": "1.2.0",
            "_model_name": "LayoutModel",
            "_view_count": null,
            "_view_module": "@jupyter-widgets/base",
            "_view_module_version": "1.2.0",
            "_view_name": "LayoutView",
            "align_content": null,
            "align_items": null,
            "align_self": null,
            "border": null,
            "bottom": null,
            "display": null,
            "flex": null,
            "flex_flow": null,
            "grid_area": null,
            "grid_auto_columns": null,
            "grid_auto_flow": null,
            "grid_auto_rows": null,
            "grid_column": null,
            "grid_gap": null,
            "grid_row": null,
            "grid_template_areas": null,
            "grid_template_columns": null,
            "grid_template_rows": null,
            "height": null,
            "justify_content": null,
            "justify_items": null,
            "left": null,
            "margin": null,
            "max_height": null,
            "max_width": null,
            "min_height": null,
            "min_width": null,
            "object_fit": null,
            "object_position": null,
            "order": null,
            "overflow": null,
            "overflow_x": null,
            "overflow_y": null,
            "padding": null,
            "right": null,
            "top": null,
            "visibility": null,
            "width": null
          }
        },
        "835242180cc1416cbf8dcceb081950af": {
          "model_module": "@jupyter-widgets/controls",
          "model_name": "DescriptionStyleModel",
          "model_module_version": "1.5.0",
          "state": {
            "_model_module": "@jupyter-widgets/controls",
            "_model_module_version": "1.5.0",
            "_model_name": "DescriptionStyleModel",
            "_view_count": null,
            "_view_module": "@jupyter-widgets/base",
            "_view_module_version": "1.2.0",
            "_view_name": "StyleView",
            "description_width": ""
          }
        },
        "b7a6e59e510d4850bfdb5b964c059020": {
          "model_module": "@jupyter-widgets/controls",
          "model_name": "HBoxModel",
          "model_module_version": "1.5.0",
          "state": {
            "_dom_classes": [],
            "_model_module": "@jupyter-widgets/controls",
            "_model_module_version": "1.5.0",
            "_model_name": "HBoxModel",
            "_view_count": null,
            "_view_module": "@jupyter-widgets/controls",
            "_view_module_version": "1.5.0",
            "_view_name": "HBoxView",
            "box_style": "",
            "children": [
              "IPY_MODEL_086a60208ca44485b2f632627e46a3aa",
              "IPY_MODEL_d6b24cd918a04ffbb07cf6bd6104984b",
              "IPY_MODEL_193b050f65184ba3b97987f1577581ae"
            ],
            "layout": "IPY_MODEL_44a9bb3fd9e14374bfea34292b3353b7"
          }
        },
        "086a60208ca44485b2f632627e46a3aa": {
          "model_module": "@jupyter-widgets/controls",
          "model_name": "HTMLModel",
          "model_module_version": "1.5.0",
          "state": {
            "_dom_classes": [],
            "_model_module": "@jupyter-widgets/controls",
            "_model_module_version": "1.5.0",
            "_model_name": "HTMLModel",
            "_view_count": null,
            "_view_module": "@jupyter-widgets/controls",
            "_view_module_version": "1.5.0",
            "_view_name": "HTMLView",
            "description": "",
            "description_tooltip": null,
            "layout": "IPY_MODEL_f23412fd340b4959b0408b7f178ade7b",
            "placeholder": "​",
            "style": "IPY_MODEL_05e25363e60346a8bf516a02b8cd81bd",
            "value": "tokenizer_config.json: 100%"
          }
        },
        "d6b24cd918a04ffbb07cf6bd6104984b": {
          "model_module": "@jupyter-widgets/controls",
          "model_name": "FloatProgressModel",
          "model_module_version": "1.5.0",
          "state": {
            "_dom_classes": [],
            "_model_module": "@jupyter-widgets/controls",
            "_model_module_version": "1.5.0",
            "_model_name": "FloatProgressModel",
            "_view_count": null,
            "_view_module": "@jupyter-widgets/controls",
            "_view_module_version": "1.5.0",
            "_view_name": "ProgressView",
            "bar_style": "success",
            "description": "",
            "description_tooltip": null,
            "layout": "IPY_MODEL_ab45d357beb04312898fff1397ebe48a",
            "max": 48,
            "min": 0,
            "orientation": "horizontal",
            "style": "IPY_MODEL_eb369e90b14e4379a1f450bd3f3d5f13",
            "value": 48
          }
        },
        "193b050f65184ba3b97987f1577581ae": {
          "model_module": "@jupyter-widgets/controls",
          "model_name": "HTMLModel",
          "model_module_version": "1.5.0",
          "state": {
            "_dom_classes": [],
            "_model_module": "@jupyter-widgets/controls",
            "_model_module_version": "1.5.0",
            "_model_name": "HTMLModel",
            "_view_count": null,
            "_view_module": "@jupyter-widgets/controls",
            "_view_module_version": "1.5.0",
            "_view_name": "HTMLView",
            "description": "",
            "description_tooltip": null,
            "layout": "IPY_MODEL_a00205dc942a4e5da55f9e29542b31a6",
            "placeholder": "​",
            "style": "IPY_MODEL_f07722e2bda440ea877c3660bacee29a",
            "value": " 48.0/48.0 [00:00&lt;00:00, 3.78kB/s]"
          }
        },
        "44a9bb3fd9e14374bfea34292b3353b7": {
          "model_module": "@jupyter-widgets/base",
          "model_name": "LayoutModel",
          "model_module_version": "1.2.0",
          "state": {
            "_model_module": "@jupyter-widgets/base",
            "_model_module_version": "1.2.0",
            "_model_name": "LayoutModel",
            "_view_count": null,
            "_view_module": "@jupyter-widgets/base",
            "_view_module_version": "1.2.0",
            "_view_name": "LayoutView",
            "align_content": null,
            "align_items": null,
            "align_self": null,
            "border": null,
            "bottom": null,
            "display": null,
            "flex": null,
            "flex_flow": null,
            "grid_area": null,
            "grid_auto_columns": null,
            "grid_auto_flow": null,
            "grid_auto_rows": null,
            "grid_column": null,
            "grid_gap": null,
            "grid_row": null,
            "grid_template_areas": null,
            "grid_template_columns": null,
            "grid_template_rows": null,
            "height": null,
            "justify_content": null,
            "justify_items": null,
            "left": null,
            "margin": null,
            "max_height": null,
            "max_width": null,
            "min_height": null,
            "min_width": null,
            "object_fit": null,
            "object_position": null,
            "order": null,
            "overflow": null,
            "overflow_x": null,
            "overflow_y": null,
            "padding": null,
            "right": null,
            "top": null,
            "visibility": null,
            "width": null
          }
        },
        "f23412fd340b4959b0408b7f178ade7b": {
          "model_module": "@jupyter-widgets/base",
          "model_name": "LayoutModel",
          "model_module_version": "1.2.0",
          "state": {
            "_model_module": "@jupyter-widgets/base",
            "_model_module_version": "1.2.0",
            "_model_name": "LayoutModel",
            "_view_count": null,
            "_view_module": "@jupyter-widgets/base",
            "_view_module_version": "1.2.0",
            "_view_name": "LayoutView",
            "align_content": null,
            "align_items": null,
            "align_self": null,
            "border": null,
            "bottom": null,
            "display": null,
            "flex": null,
            "flex_flow": null,
            "grid_area": null,
            "grid_auto_columns": null,
            "grid_auto_flow": null,
            "grid_auto_rows": null,
            "grid_column": null,
            "grid_gap": null,
            "grid_row": null,
            "grid_template_areas": null,
            "grid_template_columns": null,
            "grid_template_rows": null,
            "height": null,
            "justify_content": null,
            "justify_items": null,
            "left": null,
            "margin": null,
            "max_height": null,
            "max_width": null,
            "min_height": null,
            "min_width": null,
            "object_fit": null,
            "object_position": null,
            "order": null,
            "overflow": null,
            "overflow_x": null,
            "overflow_y": null,
            "padding": null,
            "right": null,
            "top": null,
            "visibility": null,
            "width": null
          }
        },
        "05e25363e60346a8bf516a02b8cd81bd": {
          "model_module": "@jupyter-widgets/controls",
          "model_name": "DescriptionStyleModel",
          "model_module_version": "1.5.0",
          "state": {
            "_model_module": "@jupyter-widgets/controls",
            "_model_module_version": "1.5.0",
            "_model_name": "DescriptionStyleModel",
            "_view_count": null,
            "_view_module": "@jupyter-widgets/base",
            "_view_module_version": "1.2.0",
            "_view_name": "StyleView",
            "description_width": ""
          }
        },
        "ab45d357beb04312898fff1397ebe48a": {
          "model_module": "@jupyter-widgets/base",
          "model_name": "LayoutModel",
          "model_module_version": "1.2.0",
          "state": {
            "_model_module": "@jupyter-widgets/base",
            "_model_module_version": "1.2.0",
            "_model_name": "LayoutModel",
            "_view_count": null,
            "_view_module": "@jupyter-widgets/base",
            "_view_module_version": "1.2.0",
            "_view_name": "LayoutView",
            "align_content": null,
            "align_items": null,
            "align_self": null,
            "border": null,
            "bottom": null,
            "display": null,
            "flex": null,
            "flex_flow": null,
            "grid_area": null,
            "grid_auto_columns": null,
            "grid_auto_flow": null,
            "grid_auto_rows": null,
            "grid_column": null,
            "grid_gap": null,
            "grid_row": null,
            "grid_template_areas": null,
            "grid_template_columns": null,
            "grid_template_rows": null,
            "height": null,
            "justify_content": null,
            "justify_items": null,
            "left": null,
            "margin": null,
            "max_height": null,
            "max_width": null,
            "min_height": null,
            "min_width": null,
            "object_fit": null,
            "object_position": null,
            "order": null,
            "overflow": null,
            "overflow_x": null,
            "overflow_y": null,
            "padding": null,
            "right": null,
            "top": null,
            "visibility": null,
            "width": null
          }
        },
        "eb369e90b14e4379a1f450bd3f3d5f13": {
          "model_module": "@jupyter-widgets/controls",
          "model_name": "ProgressStyleModel",
          "model_module_version": "1.5.0",
          "state": {
            "_model_module": "@jupyter-widgets/controls",
            "_model_module_version": "1.5.0",
            "_model_name": "ProgressStyleModel",
            "_view_count": null,
            "_view_module": "@jupyter-widgets/base",
            "_view_module_version": "1.2.0",
            "_view_name": "StyleView",
            "bar_color": null,
            "description_width": ""
          }
        },
        "a00205dc942a4e5da55f9e29542b31a6": {
          "model_module": "@jupyter-widgets/base",
          "model_name": "LayoutModel",
          "model_module_version": "1.2.0",
          "state": {
            "_model_module": "@jupyter-widgets/base",
            "_model_module_version": "1.2.0",
            "_model_name": "LayoutModel",
            "_view_count": null,
            "_view_module": "@jupyter-widgets/base",
            "_view_module_version": "1.2.0",
            "_view_name": "LayoutView",
            "align_content": null,
            "align_items": null,
            "align_self": null,
            "border": null,
            "bottom": null,
            "display": null,
            "flex": null,
            "flex_flow": null,
            "grid_area": null,
            "grid_auto_columns": null,
            "grid_auto_flow": null,
            "grid_auto_rows": null,
            "grid_column": null,
            "grid_gap": null,
            "grid_row": null,
            "grid_template_areas": null,
            "grid_template_columns": null,
            "grid_template_rows": null,
            "height": null,
            "justify_content": null,
            "justify_items": null,
            "left": null,
            "margin": null,
            "max_height": null,
            "max_width": null,
            "min_height": null,
            "min_width": null,
            "object_fit": null,
            "object_position": null,
            "order": null,
            "overflow": null,
            "overflow_x": null,
            "overflow_y": null,
            "padding": null,
            "right": null,
            "top": null,
            "visibility": null,
            "width": null
          }
        },
        "f07722e2bda440ea877c3660bacee29a": {
          "model_module": "@jupyter-widgets/controls",
          "model_name": "DescriptionStyleModel",
          "model_module_version": "1.5.0",
          "state": {
            "_model_module": "@jupyter-widgets/controls",
            "_model_module_version": "1.5.0",
            "_model_name": "DescriptionStyleModel",
            "_view_count": null,
            "_view_module": "@jupyter-widgets/base",
            "_view_module_version": "1.2.0",
            "_view_name": "StyleView",
            "description_width": ""
          }
        },
        "2852afa23f4f42cbb8aa8338a7effc1c": {
          "model_module": "@jupyter-widgets/controls",
          "model_name": "HBoxModel",
          "model_module_version": "1.5.0",
          "state": {
            "_dom_classes": [],
            "_model_module": "@jupyter-widgets/controls",
            "_model_module_version": "1.5.0",
            "_model_name": "HBoxModel",
            "_view_count": null,
            "_view_module": "@jupyter-widgets/controls",
            "_view_module_version": "1.5.0",
            "_view_name": "HBoxView",
            "box_style": "",
            "children": [
              "IPY_MODEL_aa5198cffcb14512b938771aa9a8439a",
              "IPY_MODEL_462bceaae85544248bc261e81e5275e9",
              "IPY_MODEL_2c4383b7cb344249be080f1f39ed44ac"
            ],
            "layout": "IPY_MODEL_866a701f94404d6f960fac9e97b2bca0"
          }
        },
        "aa5198cffcb14512b938771aa9a8439a": {
          "model_module": "@jupyter-widgets/controls",
          "model_name": "HTMLModel",
          "model_module_version": "1.5.0",
          "state": {
            "_dom_classes": [],
            "_model_module": "@jupyter-widgets/controls",
            "_model_module_version": "1.5.0",
            "_model_name": "HTMLModel",
            "_view_count": null,
            "_view_module": "@jupyter-widgets/controls",
            "_view_module_version": "1.5.0",
            "_view_name": "HTMLView",
            "description": "",
            "description_tooltip": null,
            "layout": "IPY_MODEL_4128cd24bc064334937ad45e5a3b5a99",
            "placeholder": "​",
            "style": "IPY_MODEL_223e48100d9c4330a67b04a7657c2a5f",
            "value": "vocab.txt: 100%"
          }
        },
        "462bceaae85544248bc261e81e5275e9": {
          "model_module": "@jupyter-widgets/controls",
          "model_name": "FloatProgressModel",
          "model_module_version": "1.5.0",
          "state": {
            "_dom_classes": [],
            "_model_module": "@jupyter-widgets/controls",
            "_model_module_version": "1.5.0",
            "_model_name": "FloatProgressModel",
            "_view_count": null,
            "_view_module": "@jupyter-widgets/controls",
            "_view_module_version": "1.5.0",
            "_view_name": "ProgressView",
            "bar_style": "success",
            "description": "",
            "description_tooltip": null,
            "layout": "IPY_MODEL_ae9e970a28a148a1826999da7cc8dd43",
            "max": 231508,
            "min": 0,
            "orientation": "horizontal",
            "style": "IPY_MODEL_6b4f10de8b3b41109e3c99f42044674e",
            "value": 231508
          }
        },
        "2c4383b7cb344249be080f1f39ed44ac": {
          "model_module": "@jupyter-widgets/controls",
          "model_name": "HTMLModel",
          "model_module_version": "1.5.0",
          "state": {
            "_dom_classes": [],
            "_model_module": "@jupyter-widgets/controls",
            "_model_module_version": "1.5.0",
            "_model_name": "HTMLModel",
            "_view_count": null,
            "_view_module": "@jupyter-widgets/controls",
            "_view_module_version": "1.5.0",
            "_view_name": "HTMLView",
            "description": "",
            "description_tooltip": null,
            "layout": "IPY_MODEL_549875df88224f4c9827b67c537ee0a0",
            "placeholder": "​",
            "style": "IPY_MODEL_27ff96b63ade489fbd6f7e4e1ae80938",
            "value": " 232k/232k [00:00&lt;00:00, 4.15MB/s]"
          }
        },
        "866a701f94404d6f960fac9e97b2bca0": {
          "model_module": "@jupyter-widgets/base",
          "model_name": "LayoutModel",
          "model_module_version": "1.2.0",
          "state": {
            "_model_module": "@jupyter-widgets/base",
            "_model_module_version": "1.2.0",
            "_model_name": "LayoutModel",
            "_view_count": null,
            "_view_module": "@jupyter-widgets/base",
            "_view_module_version": "1.2.0",
            "_view_name": "LayoutView",
            "align_content": null,
            "align_items": null,
            "align_self": null,
            "border": null,
            "bottom": null,
            "display": null,
            "flex": null,
            "flex_flow": null,
            "grid_area": null,
            "grid_auto_columns": null,
            "grid_auto_flow": null,
            "grid_auto_rows": null,
            "grid_column": null,
            "grid_gap": null,
            "grid_row": null,
            "grid_template_areas": null,
            "grid_template_columns": null,
            "grid_template_rows": null,
            "height": null,
            "justify_content": null,
            "justify_items": null,
            "left": null,
            "margin": null,
            "max_height": null,
            "max_width": null,
            "min_height": null,
            "min_width": null,
            "object_fit": null,
            "object_position": null,
            "order": null,
            "overflow": null,
            "overflow_x": null,
            "overflow_y": null,
            "padding": null,
            "right": null,
            "top": null,
            "visibility": null,
            "width": null
          }
        },
        "4128cd24bc064334937ad45e5a3b5a99": {
          "model_module": "@jupyter-widgets/base",
          "model_name": "LayoutModel",
          "model_module_version": "1.2.0",
          "state": {
            "_model_module": "@jupyter-widgets/base",
            "_model_module_version": "1.2.0",
            "_model_name": "LayoutModel",
            "_view_count": null,
            "_view_module": "@jupyter-widgets/base",
            "_view_module_version": "1.2.0",
            "_view_name": "LayoutView",
            "align_content": null,
            "align_items": null,
            "align_self": null,
            "border": null,
            "bottom": null,
            "display": null,
            "flex": null,
            "flex_flow": null,
            "grid_area": null,
            "grid_auto_columns": null,
            "grid_auto_flow": null,
            "grid_auto_rows": null,
            "grid_column": null,
            "grid_gap": null,
            "grid_row": null,
            "grid_template_areas": null,
            "grid_template_columns": null,
            "grid_template_rows": null,
            "height": null,
            "justify_content": null,
            "justify_items": null,
            "left": null,
            "margin": null,
            "max_height": null,
            "max_width": null,
            "min_height": null,
            "min_width": null,
            "object_fit": null,
            "object_position": null,
            "order": null,
            "overflow": null,
            "overflow_x": null,
            "overflow_y": null,
            "padding": null,
            "right": null,
            "top": null,
            "visibility": null,
            "width": null
          }
        },
        "223e48100d9c4330a67b04a7657c2a5f": {
          "model_module": "@jupyter-widgets/controls",
          "model_name": "DescriptionStyleModel",
          "model_module_version": "1.5.0",
          "state": {
            "_model_module": "@jupyter-widgets/controls",
            "_model_module_version": "1.5.0",
            "_model_name": "DescriptionStyleModel",
            "_view_count": null,
            "_view_module": "@jupyter-widgets/base",
            "_view_module_version": "1.2.0",
            "_view_name": "StyleView",
            "description_width": ""
          }
        },
        "ae9e970a28a148a1826999da7cc8dd43": {
          "model_module": "@jupyter-widgets/base",
          "model_name": "LayoutModel",
          "model_module_version": "1.2.0",
          "state": {
            "_model_module": "@jupyter-widgets/base",
            "_model_module_version": "1.2.0",
            "_model_name": "LayoutModel",
            "_view_count": null,
            "_view_module": "@jupyter-widgets/base",
            "_view_module_version": "1.2.0",
            "_view_name": "LayoutView",
            "align_content": null,
            "align_items": null,
            "align_self": null,
            "border": null,
            "bottom": null,
            "display": null,
            "flex": null,
            "flex_flow": null,
            "grid_area": null,
            "grid_auto_columns": null,
            "grid_auto_flow": null,
            "grid_auto_rows": null,
            "grid_column": null,
            "grid_gap": null,
            "grid_row": null,
            "grid_template_areas": null,
            "grid_template_columns": null,
            "grid_template_rows": null,
            "height": null,
            "justify_content": null,
            "justify_items": null,
            "left": null,
            "margin": null,
            "max_height": null,
            "max_width": null,
            "min_height": null,
            "min_width": null,
            "object_fit": null,
            "object_position": null,
            "order": null,
            "overflow": null,
            "overflow_x": null,
            "overflow_y": null,
            "padding": null,
            "right": null,
            "top": null,
            "visibility": null,
            "width": null
          }
        },
        "6b4f10de8b3b41109e3c99f42044674e": {
          "model_module": "@jupyter-widgets/controls",
          "model_name": "ProgressStyleModel",
          "model_module_version": "1.5.0",
          "state": {
            "_model_module": "@jupyter-widgets/controls",
            "_model_module_version": "1.5.0",
            "_model_name": "ProgressStyleModel",
            "_view_count": null,
            "_view_module": "@jupyter-widgets/base",
            "_view_module_version": "1.2.0",
            "_view_name": "StyleView",
            "bar_color": null,
            "description_width": ""
          }
        },
        "549875df88224f4c9827b67c537ee0a0": {
          "model_module": "@jupyter-widgets/base",
          "model_name": "LayoutModel",
          "model_module_version": "1.2.0",
          "state": {
            "_model_module": "@jupyter-widgets/base",
            "_model_module_version": "1.2.0",
            "_model_name": "LayoutModel",
            "_view_count": null,
            "_view_module": "@jupyter-widgets/base",
            "_view_module_version": "1.2.0",
            "_view_name": "LayoutView",
            "align_content": null,
            "align_items": null,
            "align_self": null,
            "border": null,
            "bottom": null,
            "display": null,
            "flex": null,
            "flex_flow": null,
            "grid_area": null,
            "grid_auto_columns": null,
            "grid_auto_flow": null,
            "grid_auto_rows": null,
            "grid_column": null,
            "grid_gap": null,
            "grid_row": null,
            "grid_template_areas": null,
            "grid_template_columns": null,
            "grid_template_rows": null,
            "height": null,
            "justify_content": null,
            "justify_items": null,
            "left": null,
            "margin": null,
            "max_height": null,
            "max_width": null,
            "min_height": null,
            "min_width": null,
            "object_fit": null,
            "object_position": null,
            "order": null,
            "overflow": null,
            "overflow_x": null,
            "overflow_y": null,
            "padding": null,
            "right": null,
            "top": null,
            "visibility": null,
            "width": null
          }
        },
        "27ff96b63ade489fbd6f7e4e1ae80938": {
          "model_module": "@jupyter-widgets/controls",
          "model_name": "DescriptionStyleModel",
          "model_module_version": "1.5.0",
          "state": {
            "_model_module": "@jupyter-widgets/controls",
            "_model_module_version": "1.5.0",
            "_model_name": "DescriptionStyleModel",
            "_view_count": null,
            "_view_module": "@jupyter-widgets/base",
            "_view_module_version": "1.2.0",
            "_view_name": "StyleView",
            "description_width": ""
          }
        }
      }
    }
  },
  "cells": [
    {
      "cell_type": "markdown",
      "metadata": {
        "id": "view-in-github",
        "colab_type": "text"
      },
      "source": [
        "<a href=\"https://colab.research.google.com/github/anytaaly/NLP-Advanced/blob/master/NLP_ADVANCE.ipynb\" target=\"_parent\"><img src=\"https://colab.research.google.com/assets/colab-badge.svg\" alt=\"Open In Colab\"/></a>"
      ]
    },
    {
      "cell_type": "markdown",
      "source": [
        "#Notebook Syntax and Explaination"
      ],
      "metadata": {
        "id": "CeadivKk0AZ6"
      }
    },
    {
      "cell_type": "markdown",
      "source": [
        "#%time"
      ],
      "metadata": {
        "id": "lTUBz5sS3Ap_"
      }
    },
    {
      "cell_type": "code",
      "source": [
        "%time"
      ],
      "metadata": {
        "colab": {
          "base_uri": "https://localhost:8080/"
        },
        "id": "2KUAh6HO0iAG",
        "outputId": "eb46097c-e646-472a-c6a3-127d1540f7d9"
      },
      "execution_count": 4,
      "outputs": [
        {
          "output_type": "stream",
          "name": "stdout",
          "text": [
            "CPU times: user 2 µs, sys: 0 ns, total: 2 µs\n",
            "Wall time: 9.3 µs\n"
          ]
        }
      ]
    },
    {
      "cell_type": "markdown",
      "source": [
        "In Jupyter notebooks, syntax that starts with `%` is called a magic command. Magic commands are special commands provided by IPython (which Jupyter is built on top of) to make interactive work easier.\n",
        "\n",
        "\n",
        "\n"
      ],
      "metadata": {
        "id": "CdFxfa6I0jsh"
      }
    },
    {
      "cell_type": "markdown",
      "source": [
        "| Magic Command | What it does  |\n",
        "|---|---|\n",
        "| %time | Times how long a single run of a line takes|\n",
        "| %timeit | Runs the line multiple times and reports averahe time |\n",
        "| %env | Sets environment variables |\n",
        "| %matplotlib inline | Displays matplotlib plots inline in the notebook |\n",
        "| %run script.py | Runs a Python script inside your notebook|"
      ],
      "metadata": {
        "id": "4LLNhsEy1bxK"
      }
    },
    {
      "cell_type": "code",
      "source": [
        "%env CUBLAS_WORKSPACE_CONFIG=:4096:8"
      ],
      "metadata": {
        "colab": {
          "base_uri": "https://localhost:8080/"
        },
        "id": "fuLwzM0E0ADf",
        "outputId": "28f327d1-f797-40f3-f1cb-cca196aebe4c"
      },
      "execution_count": 5,
      "outputs": [
        {
          "output_type": "stream",
          "name": "stdout",
          "text": [
            "env: CUBLAS_WORKSPACE_CONFIG=:4096:8\n"
          ]
        }
      ]
    },
    {
      "cell_type": "markdown",
      "source": [
        "\n",
        "### Explainnation of the command:\n",
        "`CUBLAS_WORKSPACE_CONFIG=:4096:8` is typically used in Jupyter notebooks to set an environment variable CUBLAS_WORKSPACE_CONFIG before running GPU-intensive code (usually PyTorch or TensorFlow). This variable configures how cuBLAS (NVIDIA’s CUDA Basic Linear Algebra Subprograms library) uses workspace memory on the GPU."
      ],
      "metadata": {
        "id": "8YGwDRuj0WTy"
      }
    },
    {
      "cell_type": "markdown",
      "source": [
        "#%capture"
      ],
      "metadata": {
        "id": "rP-UrzBZ282_"
      }
    },
    {
      "cell_type": "code",
      "source": [
        "%%capture captured_output\n",
        "print(\"Hello from the hidden world!\")\n"
      ],
      "metadata": {
        "id": "JNWTo-to2bGR"
      },
      "execution_count": 8,
      "outputs": []
    },
    {
      "cell_type": "code",
      "source": [
        "# Later...\n",
        "print(captured_output.stdout)"
      ],
      "metadata": {
        "colab": {
          "base_uri": "https://localhost:8080/"
        },
        "id": "zWl4v-e620SF",
        "outputId": "f1be51da-ccfc-44dc-80f7-c6a90f5a0ef6"
      },
      "execution_count": 9,
      "outputs": [
        {
          "output_type": "stream",
          "name": "stdout",
          "text": [
            "Hello from the hidden world!\n",
            "\n"
          ]
        }
      ]
    },
    {
      "cell_type": "markdown",
      "source": [
        "`%%capture `is a cell magic that lets you suppress output from a code cell — perfect for hiding messy logs, unwanted print statements, or warnings when you just want to run something quietly.\n",
        "\n"
      ],
      "metadata": {
        "id": "hjLH8CrT21nu"
      }
    },
    {
      "cell_type": "markdown",
      "source": [
        "#%%writefile"
      ],
      "metadata": {
        "id": "r1m2DhGD3o8z"
      }
    },
    {
      "cell_type": "code",
      "source": [
        "%%writefile notebook-config.yaml\n",
        "CUBLAS_WORKSPACE_CONFIG: \":4096:8\"\n",
        "use_deterministic_algorithms: true"
      ],
      "metadata": {
        "id": "QBRm9Hfc3rjF"
      },
      "execution_count": null,
      "outputs": []
    },
    {
      "cell_type": "markdown",
      "source": [
        "This will create (or overwrite) a file named ` notebook-config.yaml` with that content."
      ],
      "metadata": {
        "id": "Gg_r0WpT3wb9"
      }
    },
    {
      "cell_type": "markdown",
      "source": [
        "Where is the file saved?\n",
        "Right in your current working directory (the same place as where you run `!ls` or `!pwd` from a cell)."
      ],
      "metadata": {
        "id": "-TlFWNaB30hX"
      }
    },
    {
      "cell_type": "markdown",
      "source": [
        "To append instead of overwrite, use:\n",
        "\n",
        "\n",
        "```\n",
        "# %%writefile -a filename\n",
        "```\n",
        "\n"
      ],
      "metadata": {
        "id": "j2pkbeDe373F"
      }
    },
    {
      "cell_type": "markdown",
      "source": [
        "#Shell Terminal Commands in Jupyter"
      ],
      "metadata": {
        "id": "IQsCBZV83EFf"
      }
    },
    {
      "cell_type": "markdown",
      "source": [
        "#!your-shell-command"
      ],
      "metadata": {
        "id": "EjTFLcmm3L2p"
      }
    },
    {
      "cell_type": "code",
      "source": [
        "!ls"
      ],
      "metadata": {
        "colab": {
          "base_uri": "https://localhost:8080/"
        },
        "id": "LsIWmZxw3Sk1",
        "outputId": "7bf96898-a8ee-419c-96a0-6f355e53314f"
      },
      "execution_count": 10,
      "outputs": [
        {
          "output_type": "stream",
          "name": "stdout",
          "text": [
            "sample_data\n"
          ]
        }
      ]
    },
    {
      "cell_type": "code",
      "source": [
        "!echo"
      ],
      "metadata": {
        "colab": {
          "base_uri": "https://localhost:8080/"
        },
        "id": "fcKkLf0B3WqY",
        "outputId": "c370f667-7d0b-4693-99dc-3a2a700435a6"
      },
      "execution_count": 11,
      "outputs": [
        {
          "output_type": "stream",
          "name": "stdout",
          "text": [
            "\n"
          ]
        }
      ]
    },
    {
      "cell_type": "code",
      "source": [
        "filename = \"text.txt\"\n",
        "!echo \"this is a test\" > {filename}\n",
        "!cat {filename}"
      ],
      "metadata": {
        "colab": {
          "base_uri": "https://localhost:8080/"
        },
        "id": "NOY6zcoq3YsU",
        "outputId": "aa4ab233-4d79-4c42-e0e7-c46e3096d2af"
      },
      "execution_count": 12,
      "outputs": [
        {
          "output_type": "stream",
          "name": "stdout",
          "text": [
            "this is a test\n"
          ]
        }
      ]
    },
    {
      "cell_type": "markdown",
      "source": [],
      "metadata": {
        "id": "VaoF0c-o3WhP"
      }
    },
    {
      "cell_type": "markdown",
      "source": [
        "#Chapter 1: Introduction\n",
        "### *Course Source: NLP Demystified*"
      ],
      "metadata": {
        "id": "n4WrZkbondDR"
      }
    },
    {
      "cell_type": "code",
      "source": [],
      "metadata": {
        "id": "Yc7140ZnnfHy"
      },
      "execution_count": null,
      "outputs": []
    },
    {
      "cell_type": "markdown",
      "source": [
        "#Chapter 2: Tokenization\n",
        "### *Course Source: NLP Demystified*"
      ],
      "metadata": {
        "id": "HJLvxjvLnhCM"
      }
    },
    {
      "cell_type": "markdown",
      "source": [
        "#Chapter 3: Basic Preprocessing\n",
        "### *Course Source: NLP Demystified*"
      ],
      "metadata": {
        "id": "WVXoFBmInnG_"
      }
    },
    {
      "cell_type": "markdown",
      "source": [],
      "metadata": {
        "id": "W8xI5427nrRI"
      }
    },
    {
      "cell_type": "markdown",
      "source": [
        "#Chapter 4: Advanced Preprocessing\n",
        "### *Course Source: NLP Demystified*\n"
      ],
      "metadata": {
        "id": "_fVeDB2pnudz"
      }
    },
    {
      "cell_type": "markdown",
      "source": [
        "#Chapter 5: Basic Bag-of-words\n",
        "### *Course Source: NLP Demystified*"
      ],
      "metadata": {
        "id": "th_N7tH3n4MP"
      }
    },
    {
      "cell_type": "markdown",
      "source": [
        "#Chapter 6: TF-IDF\n",
        "### *Course Source: NLP Demystified*"
      ],
      "metadata": {
        "id": "jFmgcOFYn-ji"
      }
    },
    {
      "cell_type": "markdown",
      "source": [
        "#Chapter 7: Building Models\n",
        "### *Course Source: NLP Demystified*"
      ],
      "metadata": {
        "id": "dj-NhhHkoDDB"
      }
    },
    {
      "cell_type": "markdown",
      "source": [
        "#Chapter 8: Naive Bayes\n",
        "### *Course Source: NLP Demystified*"
      ],
      "metadata": {
        "id": "mPnuITiioIsO"
      }
    },
    {
      "cell_type": "markdown",
      "source": [
        "#Chapter 9: Topic Modelling\n",
        "### *Course Source: NLP Demystified*\n"
      ],
      "metadata": {
        "id": "WFRoKgytoMJ0"
      }
    },
    {
      "cell_type": "markdown",
      "source": [
        "#Chapter10: Text Classification & Sentiment Analysis\n",
        "\n",
        "### *Course Source: UPENN CIS 5300*\n"
      ],
      "metadata": {
        "id": "4N2DF7emmWVd"
      }
    },
    {
      "cell_type": "markdown",
      "source": [
        "#Chapter 11: Text Processing & Logistic Regression\n",
        "### *Course Source: UPENN CIS 5300*"
      ],
      "metadata": {
        "id": "iVXSyepJmfZs"
      }
    },
    {
      "cell_type": "markdown",
      "source": [],
      "metadata": {
        "id": "ORFh22yFn9is"
      }
    },
    {
      "cell_type": "markdown",
      "source": [
        "#Chapter 12: Review of Probabilities & N-gram Langauge Models\n",
        "`### *Course Source: UPENN CIS 5300*`\n"
      ],
      "metadata": {
        "id": "ZA5lubIJmr6N"
      }
    },
    {
      "cell_type": "markdown",
      "source": [
        "#Chapter 13: Vector Space Semantics\n",
        "`Course Source: UPENN CIS 5300`\n"
      ],
      "metadata": {
        "id": "5dWPPmrKm0Em"
      }
    },
    {
      "cell_type": "markdown",
      "source": [
        "#Chapter 14: Vector Space Models\n",
        "### *Course Source: UPENN CIS 5300*"
      ],
      "metadata": {
        "id": "X-X8EvUNm_qy"
      }
    },
    {
      "cell_type": "markdown",
      "source": [
        "#Chapter 15: Neural Language Models\n",
        "### *Course Source: UPENN CIS 5300*"
      ],
      "metadata": {
        "id": "W6fg4hQKnEnq"
      }
    },
    {
      "cell_type": "markdown",
      "source": [
        "#Chapter # 16: Neural Networks I. (NLP Demhystified)\n",
        "### *Course Source: NLP Demystified*\n"
      ],
      "metadata": {
        "id": "l52wZjWxnH-w"
      }
    },
    {
      "cell_type": "markdown",
      "source": [
        "#Chapter 17: Neural Network II\n",
        "### *Course Source: NLP Demystified*"
      ],
      "metadata": {
        "id": "3OoiPlNdnU7q"
      }
    },
    {
      "cell_type": "markdown",
      "source": [],
      "metadata": {
        "id": "Bw8hVe7op1DD"
      }
    },
    {
      "cell_type": "markdown",
      "source": [],
      "metadata": {
        "id": "QOiaKd3VnSoh"
      }
    },
    {
      "cell_type": "markdown",
      "source": [
        "# Chapter 18: Word Vectors\n",
        "### *Course Source: NLP Demystified*"
      ],
      "metadata": {
        "id": "ZBCeIMoApLDX"
      }
    },
    {
      "cell_type": "markdown",
      "source": [
        "# Chapter 19: Recurrent Neural Networks\n",
        "### *Course Source: NLP Demystified*"
      ],
      "metadata": {
        "id": "V8tA3lYZp1tP"
      }
    },
    {
      "cell_type": "markdown",
      "source": [],
      "metadata": {
        "id": "8Otk0b0Ip7Yh"
      }
    },
    {
      "cell_type": "markdown",
      "source": [
        "#Chapter 20: Seq2Seq and Attention\n",
        "### *Course Source: NLP Demystified*"
      ],
      "metadata": {
        "id": "2w7Y3t-up-Gx"
      }
    },
    {
      "cell_type": "markdown",
      "source": [
        "#Chapter 21: Transformer\n",
        "`Course Source: NLP Demystified`"
      ],
      "metadata": {
        "id": "CCnci7w5qFz-"
      }
    },
    {
      "cell_type": "markdown",
      "source": [],
      "metadata": {
        "id": "SmBwsI-9qLIn"
      }
    },
    {
      "cell_type": "markdown",
      "source": [
        "#Chapter 22: Parts of Speech & Grammars\n",
        "\n",
        "\n",
        "```\n",
        "UPENN CSI 5300\n",
        "```\n",
        "\n"
      ],
      "metadata": {
        "id": "TsMKDzBqqPtE"
      }
    },
    {
      "cell_type": "markdown",
      "source": [
        "#Chapter 23: Transformers and Neural Text Generation\n",
        "\n",
        "```\n",
        "UPENN CSI 5300\n",
        "```\n"
      ],
      "metadata": {
        "id": "fC1xsNOLqbhF"
      }
    },
    {
      "cell_type": "markdown",
      "source": [],
      "metadata": {
        "id": "kLG6vt0Qqg6R"
      }
    },
    {
      "cell_type": "markdown",
      "source": [
        "#Chapter 24: Encoder-Decoders, BERT and Fine-tuning\n",
        "\n",
        "```\n",
        "UPENN CSI 5300\n",
        "```"
      ],
      "metadata": {
        "id": "R7bxEQCGqiU7"
      }
    },
    {
      "cell_type": "markdown",
      "source": [
        "#Chapter 25: Prompt Engineering, Instruction Following, and Using GPT\n",
        "\n",
        "```\n",
        "UPENN CSI 5300\n",
        "```"
      ],
      "metadata": {
        "id": "hCQ5lvUZqmxj"
      }
    },
    {
      "cell_type": "markdown",
      "source": [
        "#Chapter 26: Machine Translation\n",
        "```\n",
        "UPENN CSI 5300\n",
        "```"
      ],
      "metadata": {
        "id": "dcVn20DzqsK2"
      }
    },
    {
      "cell_type": "markdown",
      "source": [
        "#Chapter 27: Dialogue Systems, Chatbots & Question Answering\n",
        "\n",
        "```\n",
        "UPENN CSI 5300\n",
        "```"
      ],
      "metadata": {
        "id": "blvgKOWbq0oM"
      }
    },
    {
      "cell_type": "markdown",
      "source": [
        "#Chapter 28: Parsing and Dependency Parsing\n",
        "\n",
        "```\n",
        "UPENN CSI 5300\n",
        "```"
      ],
      "metadata": {
        "id": "Tta28sZ6q6Zd"
      }
    },
    {
      "cell_type": "markdown",
      "source": [
        "#Chapter 29: Logical Representations of Sentence Meaning, Semantic Role Labelling & Information Extraction\n",
        "\n",
        "\n",
        "```\n",
        "UPENN CSI 5300\n",
        "```"
      ],
      "metadata": {
        "id": "ag7TM3frq-Ih"
      }
    },
    {
      "cell_type": "markdown",
      "source": [
        "#Chapter 30: Introduction to HuggingFace Transformers"
      ],
      "metadata": {
        "id": "PuUqFOZY6bNs"
      }
    },
    {
      "cell_type": "markdown",
      "source": [
        " This library provides support for downloading, running, and training language models and is an essential tool for professionals that want to deploy NLP technology.\n",
        "\n",
        "\n",
        "1.   Transformers (Model inference): !pip install transformers\n",
        "2.   Accelerate (Model training): !pip install accelerate\n",
        "3.   Datasets (Data processing): !pip install datasets\n",
        "4.   Evaluate (Model evaluation): !pip install evaluate\n",
        "\n",
        "\n",
        "\n"
      ],
      "metadata": {
        "id": "j9nO9nrt6wIa"
      }
    },
    {
      "cell_type": "markdown",
      "source": [
        "Hugging Face 🤗 is a company and open-source community that's become the go-to place for working with state-of-the-art machine learning models, especially in natural language processing (NLP), though they've expanded into computer vision, audio, and more.\n",
        "\n",
        "When people say \"Hugging Face library,\" they're usually referring to:\n",
        "\n",
        "🤖 transformers library\n",
        "This is their most famous library.\n",
        "\n",
        "It gives you access to pre-trained models like:\n",
        "\n",
        "*   BERT\n",
        "*   GPT (including GPT-2, GPT-Neo, etc.)\n",
        "*   RoBERTa\n",
        "*   DistilBERT\n",
        "*   T5\n",
        "*   BLOOM\n",
        "*   Whisper (for speech-to-text)\n",
        "*   and many, many more"
      ],
      "metadata": {
        "id": "lQzF48Hs7WGq"
      }
    },
    {
      "cell_type": "markdown",
      "source": [
        "##Sentimental Analysis using BERT"
      ],
      "metadata": {
        "id": "wXRh_fjM8FKH"
      }
    },
    {
      "cell_type": "code",
      "source": [
        "from transformers import pipeline\n",
        "\n",
        "# Load a sentiment-analysis pipeline\n",
        "classifier = pipeline(\"sentiment-analysis\")\n",
        "\n",
        "# Use it!\n",
        "result = classifier(\"I love Hugging Face!\")\n",
        "print(result)"
      ],
      "metadata": {
        "colab": {
          "base_uri": "https://localhost:8080/",
          "height": 339,
          "referenced_widgets": [
            "3e1c6022465d46a1bade4d6e85fb0678",
            "ae3101d95646417796723d4fa11d7c28",
            "d3af5e8bd6eb48a38214439cb5646594",
            "22167c1f587e4308ac81cee8e32e2bdf",
            "1dc1a32deeb64c0c805b0891eb9cc175",
            "9b9c346c08e4489088eafa803221698c",
            "c02ca40873c7494684ee01455b8f43b5",
            "dd91184f62624db29820dd154d53421b",
            "66f45155bda94130afbe37ea6dc101d3",
            "a143713ef0ca4d698b1d0138e1c2b66c",
            "3487cc22e0a745ae89a21a10122c3dfa",
            "55b335b6442a4551b838f09cc640c708",
            "92df0c0e110440c89f32dc1d9160c3fd",
            "07eb44cf6c6b43b2bb666e96604b0eb8",
            "143b82bc28c34ad384367154cdc45bca",
            "90283df19aa449778b7bb6bfb8fdf9e6",
            "25d78646dcbc40abb6a2de021c755349",
            "d546ad72a19c490eb1562e2f622b2fda",
            "f8a6e7d61f4c4b058956d88b2e7722fd",
            "041ec0f74cba412fa9b62bc4fbbade14",
            "db8766fe36d94328846876feca73a45f",
            "835242180cc1416cbf8dcceb081950af",
            "b7a6e59e510d4850bfdb5b964c059020",
            "086a60208ca44485b2f632627e46a3aa",
            "d6b24cd918a04ffbb07cf6bd6104984b",
            "193b050f65184ba3b97987f1577581ae",
            "44a9bb3fd9e14374bfea34292b3353b7",
            "f23412fd340b4959b0408b7f178ade7b",
            "05e25363e60346a8bf516a02b8cd81bd",
            "ab45d357beb04312898fff1397ebe48a",
            "eb369e90b14e4379a1f450bd3f3d5f13",
            "a00205dc942a4e5da55f9e29542b31a6",
            "f07722e2bda440ea877c3660bacee29a",
            "2852afa23f4f42cbb8aa8338a7effc1c",
            "aa5198cffcb14512b938771aa9a8439a",
            "462bceaae85544248bc261e81e5275e9",
            "2c4383b7cb344249be080f1f39ed44ac",
            "866a701f94404d6f960fac9e97b2bca0",
            "4128cd24bc064334937ad45e5a3b5a99",
            "223e48100d9c4330a67b04a7657c2a5f",
            "ae9e970a28a148a1826999da7cc8dd43",
            "6b4f10de8b3b41109e3c99f42044674e",
            "549875df88224f4c9827b67c537ee0a0",
            "27ff96b63ade489fbd6f7e4e1ae80938"
          ]
        },
        "id": "Ti0yL8Oo8Ds6",
        "outputId": "8ef56bc4-3292-4101-d8a5-e4a706df589b"
      },
      "execution_count": 13,
      "outputs": [
        {
          "output_type": "stream",
          "name": "stderr",
          "text": [
            "No model was supplied, defaulted to distilbert/distilbert-base-uncased-finetuned-sst-2-english and revision 714eb0f (https://huggingface.co/distilbert/distilbert-base-uncased-finetuned-sst-2-english).\n",
            "Using a pipeline without specifying a model name and revision in production is not recommended.\n",
            "/usr/local/lib/python3.11/dist-packages/huggingface_hub/utils/_auth.py:94: UserWarning: \n",
            "The secret `HF_TOKEN` does not exist in your Colab secrets.\n",
            "To authenticate with the Hugging Face Hub, create a token in your settings tab (https://huggingface.co/settings/tokens), set it as secret in your Google Colab and restart your session.\n",
            "You will be able to reuse this secret in all of your notebooks.\n",
            "Please note that authentication is recommended but still optional to access public models or datasets.\n",
            "  warnings.warn(\n"
          ]
        },
        {
          "output_type": "display_data",
          "data": {
            "text/plain": [
              "config.json:   0%|          | 0.00/629 [00:00<?, ?B/s]"
            ],
            "application/vnd.jupyter.widget-view+json": {
              "version_major": 2,
              "version_minor": 0,
              "model_id": "3e1c6022465d46a1bade4d6e85fb0678"
            }
          },
          "metadata": {}
        },
        {
          "output_type": "display_data",
          "data": {
            "text/plain": [
              "model.safetensors:   0%|          | 0.00/268M [00:00<?, ?B/s]"
            ],
            "application/vnd.jupyter.widget-view+json": {
              "version_major": 2,
              "version_minor": 0,
              "model_id": "55b335b6442a4551b838f09cc640c708"
            }
          },
          "metadata": {}
        },
        {
          "output_type": "display_data",
          "data": {
            "text/plain": [
              "tokenizer_config.json:   0%|          | 0.00/48.0 [00:00<?, ?B/s]"
            ],
            "application/vnd.jupyter.widget-view+json": {
              "version_major": 2,
              "version_minor": 0,
              "model_id": "b7a6e59e510d4850bfdb5b964c059020"
            }
          },
          "metadata": {}
        },
        {
          "output_type": "display_data",
          "data": {
            "text/plain": [
              "vocab.txt:   0%|          | 0.00/232k [00:00<?, ?B/s]"
            ],
            "application/vnd.jupyter.widget-view+json": {
              "version_major": 2,
              "version_minor": 0,
              "model_id": "2852afa23f4f42cbb8aa8338a7effc1c"
            }
          },
          "metadata": {}
        },
        {
          "output_type": "stream",
          "name": "stderr",
          "text": [
            "Device set to use cpu\n"
          ]
        },
        {
          "output_type": "stream",
          "name": "stdout",
          "text": [
            "[{'label': 'POSITIVE', 'score': 0.9998641014099121}]\n"
          ]
        }
      ]
    },
    {
      "cell_type": "markdown",
      "source": [
        "##Masked Langauge Modeling\n"
      ],
      "metadata": {
        "id": "wbPgtaoJ9jM8"
      }
    },
    {
      "cell_type": "markdown",
      "source": [
        "**1. Download and use the BERT model for 'fill-mask'**"
      ],
      "metadata": {
        "id": "8wV245Nh9qn0"
      }
    },
    {
      "cell_type": "code",
      "source": [
        "%%capture\n",
        "!pip install datasets\n",
        "!pip install transformers\n",
        "!pip install --upgrade accelerate\n",
        "!pip install evaluate\n",
        "from transformers import pipeline\n",
        "from transformers import AutoTokenizer, AutoModelForSequenceClassification, AutoModelForTokenClassification\n",
        "from transformers import Trainer, TrainingArguments, DataCollatorForLanguageModeling\n",
        "import datasets\n",
        "import numpy as np\n",
        "import torch\n",
        "import copy\n",
        "from dill.source import getsource\n",
        "from collections import defaultdict\n",
        "\n",
        "device = torch.device('cuda' if torch.cuda.is_available() else 'cpu')\n",
        "device_id = 0 if str(device) == 'cuda' else -1\n",
        "\n",
        "bert_model = pipeline('fill-mask', model='bert-base-cased', device=device_id)"
      ],
      "metadata": {
        "colab": {
          "base_uri": "https://localhost:8080/",
          "height": 106
        },
        "id": "L2x52rdN9mpw",
        "outputId": "4985affb-670d-4143-a908-dae2294970ab"
      },
      "execution_count": 19,
      "outputs": [
        {
          "output_type": "stream",
          "name": "stderr",
          "text": [
            "Some weights of the model checkpoint at bert-base-cased were not used when initializing BertForMaskedLM: ['bert.pooler.dense.bias', 'bert.pooler.dense.weight', 'cls.seq_relationship.bias', 'cls.seq_relationship.weight']\n",
            "- This IS expected if you are initializing BertForMaskedLM from the checkpoint of a model trained on another task or with another architecture (e.g. initializing a BertForSequenceClassification model from a BertForPreTraining model).\n",
            "- This IS NOT expected if you are initializing BertForMaskedLM from the checkpoint of a model that you expect to be exactly identical (initializing a BertForSequenceClassification model from a BertForSequenceClassification model).\n",
            "Device set to use cpu\n"
          ]
        }
      ]
    },
    {
      "cell_type": "code",
      "source": [
        "print(bert_model(\"I went to an [MASK] restaurant and ordered pasta.\"))"
      ],
      "metadata": {
        "colab": {
          "base_uri": "https://localhost:8080/"
        },
        "id": "fgDi74HyG4vN",
        "outputId": "989e6cab-0379-4a75-e1fb-209818ee74f0"
      },
      "execution_count": 20,
      "outputs": [
        {
          "output_type": "stream",
          "name": "stdout",
          "text": [
            "[{'score': 0.8473355770111084, 'token': 2169, 'token_str': 'Italian', 'sequence': 'I went to an Italian restaurant and ordered pasta.'}, {'score': 0.03583110123872757, 'token': 1890, 'token_str': 'Indian', 'sequence': 'I went to an Indian restaurant and ordered pasta.'}, {'score': 0.016542484983801842, 'token': 1385, 'token_str': 'old', 'sequence': 'I went to an old restaurant and ordered pasta.'}, {'score': 0.006616946775466204, 'token': 3427, 'token_str': 'empty', 'sequence': 'I went to an empty restaurant and ordered pasta.'}, {'score': 0.005878564435988665, 'token': 6210, 'token_str': 'Egyptian', 'sequence': 'I went to an Egyptian restaurant and ordered pasta.'}]\n"
          ]
        }
      ]
    },
    {
      "cell_type": "markdown",
      "source": [
        "```\n",
        "[{'sequence': 'I went to an Italian restaurant and ordered pasta.',\n",
        "  'score': 0.678,\n",
        "  'token': 12345,\n",
        "  'token_str': 'Italian'},\n",
        " {'sequence': 'I went to an amazing restaurant and ordered pasta.',\n",
        "  'score': 0.041,\n",
        "  'token': 6789,\n",
        "  'token_str': 'amazing'},\n",
        "  ...\n",
        "]\n",
        "```\n",
        "\n",
        "BERT is telling you:\n",
        "\n",
        "\"Hmm, based on the sentence, 'Italian' is the most likely word to go in that blank.\"\n",
        "\n",
        "You're using a pre-trained BERT model to guess missing words in a sentence. It’s like intelligent fill-in-the-blank powered by deep learning — and it works in just a few lines of code!"
      ],
      "metadata": {
        "id": "Hb_9VwX9HAuy"
      }
    },
    {
      "cell_type": "markdown",
      "source": [
        "##Sequence Classification with pre-trained BERT"
      ],
      "metadata": {
        "id": "bslL5CzuHYv8"
      }
    },
    {
      "cell_type": "markdown",
      "source": [
        "“`Sequence Classification with pre-trained BERT`” refers to using a pre-trained BERT model to classify entire sequences of text into categories — like spam vs. not spam, positive vs. negative sentiment, topic categories, etc.\n",
        "\n",
        "What is \"Sequence Classification\"?\n",
        "Sequence = a full text input (like a sentence, paragraph, or tweet)\n",
        "\n",
        "*   Sequence = a full text input (like a sentence, paragraph, or tweet)\n",
        "*   Classification = predicting a label or category for that input\n"
      ],
      "metadata": {
        "id": "rSV77wneHaId"
      }
    }
  ]
}